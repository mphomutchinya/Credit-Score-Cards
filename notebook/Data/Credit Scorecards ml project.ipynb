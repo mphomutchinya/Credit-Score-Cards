{
 "cells": [
  {
   "cell_type": "markdown",
   "id": "ecf1371e-040c-4125-b754-dac1c4cb9a53",
   "metadata": {},
   "source": [
    "# Credit Risk Model"
   ]
  },
  {
   "cell_type": "code",
   "execution_count": 2,
   "id": "d965fd38-d4ca-419d-87d3-e4d1a953eb1a",
   "metadata": {},
   "outputs": [
    {
     "name": "stdout",
     "output_type": "stream",
     "text": [
      "Path to dataset files: C:\\Users\\mutch_lf652j0\\.cache\\kagglehub\\datasets\\miadul\\personal-finance-ml-dataset\\versions\\1\n"
     ]
    }
   ],
   "source": [
    "import kagglehub\n",
    "\n",
    "# Download latest version\n",
    "path = kagglehub.dataset_download(\"miadul/personal-finance-ml-dataset\")\n",
    "\n",
    "print(\"Path to dataset files:\", path)"
   ]
  }
 ],
 "metadata": {
  "kernelspec": {
   "display_name": "Python 3 (ipykernel)",
   "language": "python",
   "name": "python3"
  },
  "language_info": {
   "codemirror_mode": {
    "name": "ipython",
    "version": 3
   },
   "file_extension": ".py",
   "mimetype": "text/x-python",
   "name": "python",
   "nbconvert_exporter": "python",
   "pygments_lexer": "ipython3",
   "version": "3.12.2"
  }
 },
 "nbformat": 4,
 "nbformat_minor": 5
}
